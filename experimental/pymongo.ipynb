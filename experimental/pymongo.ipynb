{
 "cells": [
  {
   "cell_type": "code",
   "execution_count": null,
   "metadata": {
    "collapsed": true
   },
   "outputs": [],
   "source": [
    "import dbutils\n",
    "import pymongo\n",
    "import argparse"
   ]
  },
  {
   "cell_type": "code",
   "execution_count": null,
   "metadata": {
    "collapsed": false
   },
   "outputs": [],
   "source": [
    "db = dbutils.DBConnect('glossify.io', 'tlemberg', 'tlemberg')"
   ]
  },
  {
   "cell_type": "code",
   "execution_count": null,
   "metadata": {
    "collapsed": false
   },
   "outputs": [],
   "source": [
    "for n in db.collection_names():\n",
    "    print db[n]\n",
    "    print db[n].find_one()"
   ]
  },
  {
   "cell_type": "code",
   "execution_count": null,
   "metadata": {
    "collapsed": false
   },
   "outputs": [],
   "source": [
    "print db[]"
   ]
  },
  {
   "cell_type": "code",
   "execution_count": null,
   "metadata": {
    "collapsed": true
   },
   "outputs": [],
   "source": [
    "document = \"Le douzième épisode de la série, Tennis la malice, est entièrement réalisé et colorisé par ordinateur. Cela constitue un test de la part des équipes de production qui peinent à trouver des animateurs traditionnels. Le passage au numérique sera officialisé lors de la quatorzième saison. Pendant la production de la saison, deux jeux vidéo basés sur Les Simpson sont publiés. The Simpsons Wrestling, un jeu de catch, est jugé très laid, répétitif et raté, tandis que The Simpsons: Road Rage sera plus reconnu. Néanmoins, en raison des similitudes avec le jeu Crazy Taxi, l'éditeur porte plainte à l'égard de Fox Interactive et demande un dédommagement financier. L'issue du procès reste confidentielle.\""
   ]
  },
  {
   "cell_type": "code",
   "execution_count": null,
   "metadata": {
    "collapsed": false
   },
   "outputs": [],
   "source": [
    "print document"
   ]
  },
  {
   "cell_type": "code",
   "execution_count": null,
   "metadata": {
    "collapsed": false,
    "scrolled": true
   },
   "outputs": [],
   "source": [
    "# regex stuff\n",
    "import re\n",
    "lower_word = \"-12asdf3ê\"\n",
    "lower_word = lower_word.decode('utf8')\n",
    "pattern=re.compile(u'[^\\w+\\']', re.UNICODE)\n",
    "s = pattern.sub('', lower_word, re.UNICODE)\n",
    "print s"
   ]
  },
  {
   "cell_type": "code",
   "execution_count": null,
   "metadata": {
    "collapsed": false
   },
   "outputs": [],
   "source": [
    "db['phrases_fr'].index_information()"
   ]
  },
  {
   "cell_type": "code",
   "execution_count": null,
   "metadata": {
    "collapsed": false
   },
   "outputs": [],
   "source": [
    "import time\n",
    "t = time.time()\n",
    "# c = db['phrases_fr'].find({'base':'mon'})\n",
    "c = db['phrases_fr'].find(\n",
    "    {\"$or\": [{\"base\": \"mon\"}, {\"base\": \"elle\"}]})\n",
    "for d in c: print d\n",
    "print time.time() - t"
   ]
  },
  {
   "cell_type": "code",
   "execution_count": null,
   "metadata": {
    "collapsed": true
   },
   "outputs": [],
   "source": []
  }
 ],
 "metadata": {
  "kernelspec": {
   "display_name": "Python 2",
   "language": "python",
   "name": "python2"
  },
  "language_info": {
   "codemirror_mode": {
    "name": "ipython",
    "version": 2
   },
   "file_extension": ".py",
   "mimetype": "text/x-python",
   "name": "python",
   "nbconvert_exporter": "python",
   "pygments_lexer": "ipython2",
   "version": "2.7.4"
  }
 },
 "nbformat": 4,
 "nbformat_minor": 0
}
